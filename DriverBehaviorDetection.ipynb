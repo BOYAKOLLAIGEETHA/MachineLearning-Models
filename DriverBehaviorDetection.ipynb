{
  "nbformat": 4,
  "nbformat_minor": 0,
  "metadata": {
    "colab": {
      "provenance": [],
      "authorship_tag": "ABX9TyPa7g29gT26weRDxXBYn3T8",
      "include_colab_link": true
    },
    "kernelspec": {
      "name": "python3",
      "display_name": "Python 3"
    },
    "language_info": {
      "name": "python"
    }
  },
  "cells": [
    {
      "cell_type": "markdown",
      "metadata": {
        "id": "view-in-github",
        "colab_type": "text"
      },
      "source": [
        "<a href=\"https://colab.research.google.com/github/BOYAKOLLAIGEETHA/MachineLearning-Models/blob/main/DriverBehaviorDetection.ipynb\" target=\"_parent\"><img src=\"https://colab.research.google.com/assets/colab-badge.svg\" alt=\"Open In Colab\"/></a>"
      ]
    },
    {
      "cell_type": "code",
      "execution_count": null,
      "metadata": {
        "id": "KLbz0Ngi_QHt"
      },
      "outputs": [],
      "source": [
        "from ultralytics import YOLO"
      ]
    },
    {
      "cell_type": "code",
      "source": [
        "model = YOLO('yolov8n.pt')"
      ],
      "metadata": {
        "id": "SVnrg_70Atut"
      },
      "execution_count": null,
      "outputs": []
    },
    {
      "cell_type": "code",
      "source": [
        "# Train the model\n",
        "model.train(\n",
        "    data='yolov8_driver_behavior.yaml',  # YAML file with dataset info\n",
        "    epochs=50,\n",
        "    imgsz=640,\n",
        "    batch=16,\n",
        "    name='driver_behavior_model'\n",
        ")"
      ],
      "metadata": {
        "id": "_U63JNsrAuS4"
      },
      "execution_count": null,
      "outputs": []
    },
    {
      "cell_type": "code",
      "source": [
        "# File: detect.py\n",
        "from ultralytics import YOLO\n",
        "import cv2"
      ],
      "metadata": {
        "id": "f_rz8d9NAu8V"
      },
      "execution_count": null,
      "outputs": []
    },
    {
      "cell_type": "code",
      "source": [
        "\n",
        "# Load the trained model\n",
        "model = YOLO('runs/detect/driver_behavior_model/weights/best.pt')\n"
      ],
      "metadata": {
        "id": "xispHnMAAvhF"
      },
      "execution_count": null,
      "outputs": []
    },
    {
      "cell_type": "code",
      "source": [
        "# Perform detection on video or webcam\n",
        "source = 'test_video.mp4'  # Replace with 0 for webcam\n"
      ],
      "metadata": {
        "id": "exdGKnAIBN_K"
      },
      "execution_count": null,
      "outputs": []
    },
    {
      "cell_type": "code",
      "source": [
        "results = model(source, show=True, conf=0.4)"
      ],
      "metadata": {
        "id": "_nP4nGfzBOWV"
      },
      "execution_count": null,
      "outputs": []
    },
    {
      "cell_type": "code",
      "source": [
        "# Save the results\n",
        "for r in results:\n",
        "    r.save(save_dir='outputs/')"
      ],
      "metadata": {
        "id": "Ufmrm5-rBO8G"
      },
      "execution_count": null,
      "outputs": []
    },
    {
      "cell_type": "code",
      "source": [
        "# File: yolov8_driver_behavior.yaml\n",
        "# (This is a config file and should be saved as YAML, not Python)\n",
        "# --- YAML START ---\n",
        "# path: datasets/driver_behavior\n",
        "# train: images/train\n",
        "# val: images/val\n",
        "#\n",
        "# names:\n",
        "#   0: normal\n",
        "#   1: phone\n",
        "#   2: no_seatbelt\n",
        "#   3: smoking\n",
        "#   4: drinking\n",
        "#   5: distracted\n",
        "# --- YAML END ---\n"
      ],
      "metadata": {
        "id": "eZACH9yKBUnT"
      },
      "execution_count": null,
      "outputs": []
    },
    {
      "cell_type": "code",
      "source": [
        "# requirements.txt\n",
        "ultralytics\n",
        "opencv-python\n",
        "matplotlib"
      ],
      "metadata": {
        "id": "r9a97hdvBU9t"
      },
      "execution_count": null,
      "outputs": []
    },
    {
      "cell_type": "code",
      "source": [],
      "metadata": {
        "id": "rKcujX1yBVVb"
      },
      "execution_count": null,
      "outputs": []
    }
  ]
}